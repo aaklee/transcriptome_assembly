{
 "cells": [
  {
   "cell_type": "markdown",
   "id": "oriental-concentrate",
   "metadata": {},
   "source": [
    "# transcriptome assembly and annotation\n",
    "\n",
    "Aaron Lee, June 2023\n",
    "\n",
    "This data analysis pipeline largely follows the workflow outlined by Ya Yang and Diego Morales-Briones for transcriptome assembly in phylogenomic dataset/orthology analysis https://bitbucket.org/yanglab/phylogenomic_dataset_construction/src/master/. It is slightly less conservative, with fewer raw data cleaning steps. The workflow is as follows:\n",
    "1. quality checking\n",
    "2. quality trimming\n",
    "3. deduplication\n",
    "4. removing organellar reads\n",
    "5. de novo transcriptome assembly\n",
    "6. process transcriptome sequences\n",
    "7. coding sequence annotation\n",
    "\n",
    "## dependencies\n",
    "Anaconda, or any of the derivatives (eg miniconda, mamba, etc). All of the following programs will be wrapped up in a conda environment. Additionally, you will need the chimera removal script from the phylogenomic dataset construction pipeline.\n",
    "\n",
    "- FastQC\n",
    "- TRIMMOMATIC\n",
    "- PRINSEQ\n",
    "- Bowtie2\n",
    "- transrate\n",
    "- Trinity\n",
    "- BLAST+\n",
    "- transdecoder\n",
    "- chimera removal script\n",
    "\n",
    "The following code will help us to write and submit batch scripts to the SLURM job scheduler from this notebook on MSI."
   ]
  },
  {
   "cell_type": "code",
   "execution_count": 2,
   "id": "piano-boutique",
   "metadata": {},
   "outputs": [
    {
     "data": {
      "text/plain": [
       "CompletedProcess(args=['conda', 'activate', 'transcriptome'], returncode=1)"
      ]
     },
     "execution_count": 2,
     "metadata": {},
     "output_type": "execute_result"
    }
   ],
   "source": [
    "import subprocess, sys, os\n",
    "\n",
    "#subprocess.run(\"conda env create -n transcriptome --file transcriptome.yml\")\n",
    "subprocess.run([\"conda\", \"activate\", \"transcriptome\"])"
   ]
  },
  {
   "cell_type": "markdown",
   "id": "distributed-republican",
   "metadata": {},
   "source": [
    "# 1. quality checking"
   ]
  },
  {
   "cell_type": "code",
   "execution_count": 5,
   "id": "stunning-arbitration",
   "metadata": {},
   "outputs": [
    {
     "data": {
      "text/plain": [
       "CompletedProcess(args=['sbatch', 'fastqc.sh'], returncode=0)"
      ]
     },
     "execution_count": 5,
     "metadata": {},
     "output_type": "execute_result"
    }
   ],
   "source": [
    "with open(\"fastqc.sh\", \"w+\") as outf:\n",
    "    outf.write(\"#!/usr/bin/bash\\n\")\n",
    "    outf.write(\"#SBATCH --mail-user=lee02893@umn.edu\\n\")\n",
    "    outf.write(\"#SBATCH --mail-type=ALL\\n\")\n",
    "    outf.write(\"#SBATCH --job-name=fastqc\\n\")\n",
    "    outf.write(\"#SBATCH --time=1:00:00\\n\")\n",
    "    outf.write(\"#SBATCH --partition=msismall\\n\")\n",
    "    outf.write(\"#SBATCH --ntasks=16\\n\")\n",
    "    outf.write(\"#SBATCH --mem=8g\\n\\n\")\n",
    "    #outf.write(\"module load fastqc\\n\")\n",
    "    outf.write(\"files=$(ls /home/yangya/lee02893/sceletium/data)\\n\")\n",
    "    outf.write(\"fastqc -t 16 ${files[@]}\\n\")\n",
    "\n",
    "subprocess.run([\"sbatch\", \"fastqc.sh\"])\n",
    "\n",
    "    "
   ]
  },
  {
   "cell_type": "markdown",
   "id": "requested-throat",
   "metadata": {},
   "source": [
    "# 2. quality trimming"
   ]
  },
  {
   "cell_type": "code",
   "execution_count": 7,
   "id": "heard-surprise",
   "metadata": {},
   "outputs": [],
   "source": [
    "with open(\"trimmomatic.sh\", \"w+\") as outf:\n",
    "    outf.write(\"#!/usr/bin/bash\\n\")\n",
    "    outf.write(\"#SBATCH --mail-user=lee02893@umn.edu\\n\")\n",
    "    outf.write(\"#SBATCH --mail-type=ALL\\n\")\n",
    "    outf.write(\"#SBATCH --job-name=trim\\n\")\n",
    "    outf.write(\"#SBATCH --time=12:00:00\\n\")\n",
    "    outf.write(\"#SBATCH --partition=msismall\\n\")\n",
    "    outf.write(\"#SBATCH --ntasks=16\\n\")\n",
    "    outf.write(\"#SBATCH --mem=8g\\n\")\n",
    "    #outf.write(\"module load trimmomatic\\n\")\n",
    "    outf.write(\"java -jar $TRIMMOMATIC/trimmomatic.jar PE -threads 16 /home/yangya/lee02893/sceletium/data/Sceletium_nova_S25_R1_001.fastq.gz /home/yangya/lee02893/sceletium/data/Sceletium_nova_S25_R2_001.fastq.gz Sceletium_nova.trim.1P.fq Sceletium_nova.trim.1U.fq Sceletium_nova.trim.2P.fq Sceletium_nova.trim.2U.fq ILLUMINACLIP:$TRIMMOMATIC/adapters/all_illumina_adapters.fa:2:30:7 SLIDINGWINDOW:4:20 LEADING:10 TRAILING:10 MINLEN:35\")\n",
    "\n",
    "\n",
    "subprocess.run([\"sbatch\", \"trimmomatic.sh\"])\n"
   ]
  },
  {
   "cell_type": "markdown",
   "id": "unsigned-pantyhose",
   "metadata": {},
   "source": [
    "# 3. deduplication"
   ]
  },
  {
   "cell_type": "code",
   "execution_count": 8,
   "id": "residential-arnold",
   "metadata": {},
   "outputs": [],
   "source": [
    "with open(\"prinseq.sh\", \"w+\") as outf:\n",
    "    outf.write(\"#!/usr/bin/bash\\n\")\n",
    "    outf.write(\"#SBATCH --mail-user=lee02893@umn.edu\\n\")\n",
    "    outf.write(\"#SBATCH --mail-type=ALL\\n\")\n",
    "    outf.write(\"#SBATCH --job-name=prinseq\\n\")\n",
    "    outf.write(\"#SBATCH --time=12:00:00\\n\")\n",
    "    outf.write(\"#SBATCH --partition=msismall\\n\")\n",
    "    outf.write(\"#SBATCH --ntasks=16\\n\")\n",
    "    outf.write(\"#SBATCH --mem=8g\\n\")\n",
    "    #outf.write(\"module load prinseq\\n\")\n",
    "    outf.write(\"prinseq-lite.pl -verbose -fastq Sceletium_nova_filtered.1P.fq Sceletium_nova_filtered.2P.fq -derep 123 -out_good Sceletium_nova_dedup -out_bad null\")\n",
    "\n",
    "subprocess.run([\"sbatch\", \"prinseq.sh\"])\n"
   ]
  },
  {
   "cell_type": "markdown",
   "id": "demonstrated-clock",
   "metadata": {},
   "source": [
    "# 4. removing organellar reads"
   ]
  },
  {
   "cell_type": "code",
   "execution_count": 10,
   "id": "appropriate-surname",
   "metadata": {},
   "outputs": [],
   "source": [
    "with open(\"bowtie2.sh\", \"w+\") as outf:\n",
    "    outf.write(\"#!/usr/bin/bash\\n\")\n",
    "    outf.write(\"#SBATCH --mail-user=lee02893@umn.edu\\n\")\n",
    "    outf.write(\"#SBATCH --mail-type=ALL\\n\")\n",
    "    outf.write(\"#SBATCH --job-name=bowtie2\\n\")\n",
    "    outf.write(\"#SBATCH --time=12:00:00\\n\")\n",
    "    outf.write(\"#SBATCH --partition=msismall\\n\")\n",
    "    outf.write(\"#SBATCH --ntasks=16\\n\")\n",
    "    outf.write(\"#SBATCH --mem=8g\\n\")\n",
    "    #outf.write(\"module load bowtie2\\n\")\n",
    "    # build bowtie2 index for ice plant chloroplast\n",
    "    outf.write(\"bowtie2-build /home/yangya/lee02893/sceletium/3-bowtie2/Mesembryanthemum_crystallinum.cp.fa Mcry_cp\\n\")\n",
    "    # align reads to ice plant chloroplast and retain reads that DO NOT map (--un-conc)\n",
    "    outf.write(\"bowtie2 -x Mcry_cp -1 Sceletium_nova_filtered.1P.fq -2 Sceletium_nova_filtered.2P.fq -derep 123 -out_good ${ARRAYJOB} -out_bad null\")\n",
    "    # remove large SAM file\n",
    "    outf.write(\"rm *.sam\")\n",
    "    \n",
    "subprocess.run([\"sbatch\", \"bowtie2.sh\"])\n"
   ]
  },
  {
   "cell_type": "markdown",
   "id": "dense-faith",
   "metadata": {},
   "source": [
    "# 5. de novo transcriptome assembly"
   ]
  },
  {
   "cell_type": "code",
   "execution_count": null,
   "id": "classified-roommate",
   "metadata": {},
   "outputs": [],
   "source": [
    "with open(\"trinity.sh\", \"w+\") as outf:\n",
    "    outf.write(\"#!/usr/bin/bash\\n\")\n",
    "    outf.write(\"#SBATCH --mail-user=lee02893@umn.edu\\n\")\n",
    "    outf.write(\"#SBATCH --mail-type=ALL\\n\")\n",
    "    outf.write(\"#SBATCH --job-name=trinity\\n\")\n",
    "    outf.write(\"#SBATCH --time=1-00:00:00\\n\")\n",
    "    outf.write(\"#SBATCH --partition=msismall\\n\")\n",
    "    outf.write(\"#SBATCH --ntasks=16\\n\")\n",
    "    outf.write(\"#SBATCH --mem=200g\\n\")\n",
    "    #outf.write(\"module load trinity\\n\")\n",
    "    outf.write(\"Trinity --seqType fq --max_memory 200G --CPU 16 --verbose --left Sceletium_nova.bt2.1P.fq --right Sceletium_nova.bt2.2P.fq --output trinity_Sceletium_nova --full_cleanup\")\n",
    "    \n",
    "subprocess.run([\"sbatch\", \"trinity.sh\"])\n"
   ]
  },
  {
   "cell_type": "markdown",
   "id": "fuzzy-polls",
   "metadata": {},
   "source": [
    "# 6. process transcriptome sequences"
   ]
  },
  {
   "cell_type": "code",
   "execution_count": null,
   "id": "figured-ratio",
   "metadata": {},
   "outputs": [],
   "source": [
    "with open(\"process_transcripts.sh\", \"w+\") as outf:\n",
    "    outf.write(\"#!/usr/bin/bash\\n\")\n",
    "    outf.write(\"#SBATCH --mail-user=lee02893@umn.edu\\n\")\n",
    "    outf.write(\"#SBATCH --mail-type=ALL\\n\")\n",
    "    outf.write(\"#SBATCH --job-name=chimeras\\n\")\n",
    "    outf.write(\"#SBATCH --time=1-00:00:00\\n\")\n",
    "    outf.write(\"#SBATCH --partition=msismall\\n\")\n",
    "    outf.write(\"#SBATCH --ntasks=20\\n\")\n",
    "    outf.write(\"#SBATCH --mem=40g\\n\")\n",
    "    #outf.write(\"module load ncbi_blast+\\n\")\n",
    "    \n",
    "    # blastx search Trinity transcripts against ice plant amino acid sequences\n",
    "    outf.write(\"blastx -db /home/yangya/lee02893/blastdb/iceplant_protein -out Sceletium_nova_blastx.tsv -query trinity_Sceletium_nova/Trinity.fasta -num_threads 20 -evalue 10 -outfmt \"6 qseqid qlen sseqid slen frames pident nident length mismatch gapopen qstart qend sstart send evalue bitscore\" -max_target_seqs 100\\n\")\n",
    "    # remove chimeric sequences using Ya's script\n",
    "    outf.write(\"python /home/yangya/lee02893/software/phylogenomic_dataset_construction/scripts/detect_chimera_from_blastx_modified.py Sceletium_nova_blastx.tsv ./\\n\")\n",
    "    \n",
    "    # remove poorly supported sequences using transrate\n",
    "    outf.write(\"transrate --assembly trinity_Sceletium_nova/Trinity.fasta --left Sceletium_nova.bt2.1P.fq --right Sceletium_nova.bt2.2P.fq\")\n",
    "    \n",
    "    # call \"unigenes\"\n",
    "    # usage: python get_unigenes.py [transrate directory] [chimera directory]\n",
    "    outf.write(\"python /home/yangya/lee02893/github/genomics_tools/transcriptome_tools/get_unigenes.py ./ ./\")\n",
    "    \n",
    "subprocess.run([\"sbatch\", \"process_transcripts.sh\"])\n"
   ]
  },
  {
   "cell_type": "markdown",
   "id": "statutory-accessory",
   "metadata": {},
   "source": [
    "# 7. coding sequence annotation"
   ]
  },
  {
   "cell_type": "code",
   "execution_count": null,
   "id": "included-shakespeare",
   "metadata": {},
   "outputs": [],
   "source": [
    "# need transrate and transdecoder here\n",
    "\n",
    "with open(\"transdecoder.sh\", \"w+\") as outf:\n",
    "    outf.write(\"#!/usr/bin/bash\\n\")\n",
    "    outf.write(\"#SBATCH --mail-user=lee02893@umn.edu\\n\")\n",
    "    outf.write(\"#SBATCH --mail-type=ALL\\n\")\n",
    "    outf.write(\"#SBATCH --job-name=trinity\\n\")\n",
    "    outf.write(\"#SBATCH --time=1-00:00:00\\n\")\n",
    "    outf.write(\"#SBATCH --partition=msismall\\n\")\n",
    "    outf.write(\"#SBATCH --ntasks=20\\n\")\n",
    "    outf.write(\"#SBATCH --mem=40g\\n\")\n",
    "    \n",
    "    # blastx search Trinity transcripts against ice plant amino acid sequences\n",
    "    outf.write(\"TransDecoder.LongOrfs -t unigenes.\")\n",
    "    \n",
    "subprocess.run([\"sbatch\", \"fastqc.sh\"])\n"
   ]
  }
 ],
 "metadata": {
  "kernelspec": {
   "display_name": "Python3.8.3",
   "language": "python",
   "name": "python3.8.3"
  },
  "language_info": {
   "codemirror_mode": {
    "name": "ipython",
    "version": 3
   },
   "file_extension": ".py",
   "mimetype": "text/x-python",
   "name": "python",
   "nbconvert_exporter": "python",
   "pygments_lexer": "ipython3",
   "version": "3.8.3"
  }
 },
 "nbformat": 4,
 "nbformat_minor": 5
}
