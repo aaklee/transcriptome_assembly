{
 "cells": [
  {
   "cell_type": "markdown",
   "id": "imperial-output",
   "metadata": {},
   "source": [
    "# transcriptome assembly and annotation\n",
    "\n",
    "Aaron Lee, June 2023\n",
    "\n",
    "This data analysis pipeline largely follows the workflow outlined by Ya Yang and Diego Morales-Briones for transcriptome assembly in phylogenomic dataset/orthology analysis https://bitbucket.org/yanglab/phylogenomic_dataset_construction/src/master/. It is slightly less conservative, with fewer raw data cleaning steps. The workflow is as follows:\n",
    "1. quality checking\n",
    "2. quality trimming\n",
    "3. deduplication\n",
    "4. removing organellar reads\n",
    "5. de novo transcriptome assembly\n",
    "6. process transcriptome sequences\n",
    "7. coding sequence annotation\n",
    "\n",
    "## dependencies\n",
    "Anaconda, or any of the derivatives (eg miniconda, mamba, etc). All of the following programs will be wrapped up in a conda environment. Additionally, you will need the chimera removal script from the phylogenomic dataset construction pipeline.\n",
    "\n",
    "- FastQC\n",
    "- TRIMMOMATIC\n",
    "- PRINSEQ\n",
    "- Bowtie2\n",
    "- transrate\n",
    "- Trinity\n",
    "- BLAST+\n",
    "- transdecoder\n",
    "- chimera removal script\n",
    "\n",
    "The following code will help us to write batch scripts for the SLURM job scheduler. You will need to go to your command line to send the batch scripts using the `sbatch job-script.sh` command."
   ]
  },
  {
   "cell_type": "code",
   "execution_count": 2,
   "id": "spanish-miller",
   "metadata": {},
   "outputs": [],
   "source": [
    "import subprocess, sys, os\n",
    "\n",
    "# set working directory\n",
    "wd = os.path.abspath(\"/home/yangya/lee02893/sceletium_nox\")\n",
    "\n",
    "# make working directory\n",
    "if not os.path.exists(wd):\n",
    "    subprocess.run([\"mkdir\", wd])\n",
    "\n",
    "# set email\n",
    "email = \"lee02893@umn.edu\"\n",
    "\n",
    "# set reads\n",
    "reads1 = \"/home/yangya/lee02893/sceletium/data/reduced_data/Sceletium_nova_S25_R1.reduced.fastq\" #reduced R1\n",
    "reads2 = \"/home/yangya/lee02893/sceletium/data/reduced_data/Sceletium_nova_S25_R2.reduced.fastq\" #reduced R2\n",
    "#reads1 = \"/home/yangya/lee02893/sceletium/data/Sceletium_nova_S25_R1_001.fastq.gz\" #complete R1\n",
    "#reads2 = \"/home/yangya/lee02893/sceletium/data/Sceletium_nova_S25_R2_001.fastq.gz\" #complete R2\n"
   ]
  },
  {
   "cell_type": "markdown",
   "id": "instant-protection",
   "metadata": {},
   "source": [
    "# 1. quality checking"
   ]
  },
  {
   "cell_type": "code",
   "execution_count": 9,
   "id": "original-surge",
   "metadata": {},
   "outputs": [
    {
     "data": {
      "text/plain": [
       "CompletedProcess(args=['sbatch', 'fastqc.sh'], returncode=0)"
      ]
     },
     "execution_count": 9,
     "metadata": {},
     "output_type": "execute_result"
    }
   ],
   "source": [
    "with open(os.path.join(wd, \"fastqc.sh\"), \"w+\") as outf:\n",
    "    outf.write(\"#!/usr/bin/bash\\n\")\n",
    "    outf.write(\"#SBATCH --mail-user={}\\n\").format(email)\n",
    "    outf.write(\"#SBATCH --mail-type=ALL\\n\")\n",
    "    outf.write(\"#SBATCH --job-name=fastqc\\n\")\n",
    "    outf.write(\"#SBATCH --time=1:00:00\\n\")\n",
    "    outf.write(\"#SBATCH --partition=msismall\\n\")\n",
    "    outf.write(\"#SBATCH --ntasks=16\\n\")\n",
    "    outf.write(\"#SBATCH --mem=8g\\n\\n\")\n",
    "    \n",
    "    #outf.write(\"module load fastqc\\n\")\n",
    "    outf.write(\"source /home/yangya/lee02893/.bashrc\\n\")\n",
    "    outf.write(\"source activate transcriptome\\n\")\n",
    "    outf.write(\"cd {}\\n\".format(wd))\n",
    "\n",
    "    outf.write(\"fastqc -t 16 {} {}\".format(reads1, reads2))"
   ]
  },
  {
   "cell_type": "markdown",
   "id": "threaded-textbook",
   "metadata": {},
   "source": [
    "# 2. quality trimming"
   ]
  },
  {
   "cell_type": "code",
   "execution_count": 13,
   "id": "mysterious-reading",
   "metadata": {},
   "outputs": [],
   "source": [
    "with open(os.path.join(wd, \"trimmomatic.sh\"), \"w+\") as outf:\n",
    "    outf.write(\"#!/usr/bin/bash\\n\")\n",
    "    outf.write(\"#SBATCH --mail-user={}\\n\".format(email)\n",
    "    outf.write(\"#SBATCH --mail-type=ALL\\n\")\n",
    "    outf.write(\"#SBATCH --job-name=trim\\n\")\n",
    "    outf.write(\"#SBATCH --time=12:00:00\\n\")\n",
    "    outf.write(\"#SBATCH --partition=msismall\\n\")\n",
    "    outf.write(\"#SBATCH --ntasks=16\\n\")\n",
    "    outf.write(\"#SBATCH --mem=8g\\n\")\n",
    "\n",
    "    outf.write(\"source /home/yangya/lee02893/.bashrc\\n\")\n",
    "    outf.write(\"source activate transcriptome\\n\")\n",
    "    outf.write(\"cd {}\\n\".format(wd))\n",
    "    outf.write(\"trimmomatic PE -threads 16 {} {} Sceletium_nova.trim.1P.fastq Sceletium_nova.trim.1U.fastq Sceletium_nova.trim.2P.fastq Sceletium_nova.trim.2U.fastq ILLUMINACLIP:/panfs/roc/msisoft/trimmomatic/0.33//adapters/all_illumina_adapters.fa:2:30:7 SLIDINGWINDOW:4:20 LEADING:20 TRAILING:20 MINLEN:35\".format(reads1, reads2))\n"
   ]
  },
  {
   "cell_type": "markdown",
   "id": "competent-peoples",
   "metadata": {},
   "source": [
    "# 3. deduplication"
   ]
  },
  {
   "cell_type": "code",
   "execution_count": 16,
   "id": "aboriginal-birthday",
   "metadata": {},
   "outputs": [],
   "source": [
    "with open(os.path.join(wd, \"prinseq.sh\"), \"w+\") as outf:\n",
    "    outf.write(\"#!/usr/bin/bash\\n\")\n",
    "    outf.write(\"#SBATCH --mail-user={}\\n\").format(email)\n",
    "    outf.write(\"#SBATCH --mail-type=ALL\\n\")\n",
    "    outf.write(\"#SBATCH --job-name=prinseq\\n\")\n",
    "    outf.write(\"#SBATCH --time=12:00:00\\n\")\n",
    "    outf.write(\"#SBATCH --partition=msismall\\n\")\n",
    "    outf.write(\"#SBATCH --ntasks=16\\n\")\n",
    "    outf.write(\"#SBATCH --mem=8g\\n\")\n",
    "\n",
    "    outf.write(\"source /home/yangya/lee02893/.bashrc\\n\")\n",
    "    outf.write(\"source activate transcriptome\\n\")\n",
    "    outf.write(\"cd {}\\n\".format(wd))\n",
    "    outf.write(\"prinseq-lite.pl -verbose -fastq Sceletium_nova.trim.1P.fastq -fastq2 Sceletium_nova.trim.2P.fastq -derep 123 -out_good Sceletium_nova_dedup -out_bad null\")"
   ]
  },
  {
   "cell_type": "markdown",
   "id": "permanent-spoke",
   "metadata": {},
   "source": [
    "# 4. removing organellar reads"
   ]
  },
  {
   "cell_type": "code",
   "execution_count": 20,
   "id": "preliminary-treat",
   "metadata": {},
   "outputs": [],
   "source": [
    "with open(os.path.join(wd, \"bowtie2.sh\"), \"w+\") as outf:\n",
    "    outf.write(\"#!/usr/bin/bash\\n\")\n",
    "    outf.write(\"#SBATCH --mail-user={}\\n\").format(email)\n",
    "    outf.write(\"#SBATCH --mail-type=ALL\\n\")\n",
    "    outf.write(\"#SBATCH --job-name=bowtie2\\n\")\n",
    "    outf.write(\"#SBATCH --time=12:00:00\\n\")\n",
    "    outf.write(\"#SBATCH --partition=msismall\\n\")\n",
    "    outf.write(\"#SBATCH --ntasks=16\\n\")\n",
    "    outf.write(\"#SBATCH --mem=8g\\n\")\n",
    "    \n",
    "    outf.write(\"source /home/yangya/lee02893/.bashrc\\n\")\n",
    "    outf.write(\"source activate transcriptome\\n\")\n",
    "    outf.write(\"cd {}\\n\".format(wd))\n",
    "    \n",
    "    # build bowtie2 index for ice plant chloroplast\n",
    "    outf.write(\"bowtie2-build /home/yangya/lee02893/sceletium/Mesembryanthemum_crystallinum.cp.fa Mcry_cp\\n\")\n",
    "    \n",
    "    # align reads to ice plant chloroplast and retain reads that DO NOT map (--un-conc)\n",
    "    outf.write(\"bowtie2 -x Mcry_cp -1 Sceletium_nova_dedup_1.fastq -2 Sceletium_nova_dedup_2.fastq -S Sceletium_cp.sam --un-conc Sceletium_bt2_unaligned_%.fastq\\n\")\n",
    "    # remove large SAM file\n",
    "    outf.write(\"rm *.sam\")\n"
   ]
  },
  {
   "cell_type": "markdown",
   "id": "handmade-satin",
   "metadata": {},
   "source": [
    "# 5. de novo transcriptome assembly"
   ]
  },
  {
   "cell_type": "code",
   "execution_count": 23,
   "id": "expired-hands",
   "metadata": {},
   "outputs": [],
   "source": [
    "with open(os.path.join(wd, \"trinity.sh\"), \"w+\") as outf:\n",
    "    outf.write(\"#!/usr/bin/bash\\n\")\n",
    "    outf.write(\"#SBATCH --mail-user={}\\n\").format(email)\n",
    "    outf.write(\"#SBATCH --mail-type=ALL\\n\")\n",
    "    outf.write(\"#SBATCH --job-name=trinity\\n\")\n",
    "    outf.write(\"#SBATCH --time=1-00:00:00\\n\")\n",
    "    outf.write(\"#SBATCH --partition=msismall\\n\")\n",
    "    outf.write(\"#SBATCH --ntasks=16\\n\")\n",
    "    outf.write(\"#SBATCH --mem=200g\\n\")\n",
    "    \n",
    "    outf.write(\"source /home/yangya/lee02893/.bashrc\\n\")\n",
    "    outf.write(\"source activate transcriptome\\n\")\n",
    "    outf.write(\"cd {}\\n\".format(wd))\n",
    "    \n",
    "    outf.write(\"module load java\")\n",
    "    outf.write(\"Trinity --seqType fq --max_memory 200G --CPU 16 --verbose --left Sceletium_bt2_unaligned_1.fastq --right Sceletium_bt2_unaligned_2.fastq --output trinity_Sceletium_nova --full_cleanup\")"
   ]
  },
  {
   "cell_type": "markdown",
   "id": "owned-raleigh",
   "metadata": {},
   "source": [
    "# 6. process transcriptome sequences"
   ]
  },
  {
   "cell_type": "code",
   "execution_count": null,
   "id": "selective-sauce",
   "metadata": {},
   "outputs": [],
   "source": [
    "with open(os.path.join(wd, \"process_transcripts.sh\"), \"w+\") as outf:\n",
    "    outf.write(\"#!/usr/bin/bash\\n\")\n",
    "    outf.write(\"#SBATCH --mail-user={}}\\n\").format(email)\n",
    "    outf.write(\"#SBATCH --mail-type=ALL\\n\")\n",
    "    outf.write(\"#SBATCH --job-name=proc_seqs\\n\")\n",
    "    outf.write(\"#SBATCH --time=1-00:00:00\\n\")\n",
    "    outf.write(\"#SBATCH --partition=msismall\\n\")\n",
    "    outf.write(\"#SBATCH --ntasks=20\\n\")\n",
    "    outf.write(\"#SBATCH --mem=40g\\n\")\n",
    "    #outf.write(\"module load ncbi_blast+\\n\")\n",
    "    \n",
    "    outf.write(\"source /home/yangya/lee02893/.bashrc\\n\")\n",
    "    outf.write(\"source activate transcriptome\\n\")\n",
    "    outf.write(\"cd {}\\n\".format(wd))\n",
    "    \n",
    "    # blastx search Trinity transcripts against ice plant amino acid sequences\n",
    "    outf.write(\"blastx -db /home/yangya/lee02893/blastdb/iceplant_protein -out Sceletium_nova_blastx.tsv -query trinity_Sceletium_nova/Trinity.fasta -num_threads 20 -evalue 10 -outfmt \"6 qseqid qlen sseqid slen frames pident nident length mismatch gapopen qstart qend sstart send evalue bitscore\" -max_target_seqs 100\\n\")\n",
    "    # remove chimeric sequences using Ya's script\n",
    "    outf.write(\"python /home/yangya/lee02893/software/phylogenomic_dataset_construction/scripts/detect_chimera_from_blastx_modified.py Sceletium_nova_blastx.tsv ./\\n\")\n",
    "    \n",
    "    # remove poorly supported sequences using transrate\n",
    "    outf.write(\"transrate --assembly trinity_Sceletium_nova/Trinity.fasta --left Sceletium_nova.bt2.1P.fq --right Sceletium_nova.bt2.2P.fq\")\n",
    "    \n",
    "    # call \"unigenes\"\n",
    "    # usage: python get_unigenes.py [transrate directory] [chimera directory]\n",
    "    outf.write(\"python /home/yangya/lee02893/github/genomics_tools/transcriptome_tools/get_unigenes.py ./ ./\")\n",
    "    outf.write(\"mv unigenes.Trinity.fasta Sceletium_nova.unigenes.fasta\")"
   ]
  },
  {
   "cell_type": "markdown",
   "id": "sealed-reducing",
   "metadata": {},
   "source": [
    "# 7. coding sequence annotation"
   ]
  },
  {
   "cell_type": "code",
   "execution_count": null,
   "id": "verified-interval",
   "metadata": {},
   "outputs": [],
   "source": [
    "with open(os.path.join(wd, \"transdecoder.sh\"), \"w+\") as outf:\n",
    "    outf.write(\"#!/usr/bin/bash\\n\")\n",
    "    outf.write(\"#SBATCH --mail-user={}\\n\").format(email)\n",
    "    outf.write(\"#SBATCH --mail-type=ALL\\n\")\n",
    "    outf.write(\"#SBATCH --job-name=trinity\\n\")\n",
    "    outf.write(\"#SBATCH --time=1-00:00:00\\n\")\n",
    "    outf.write(\"#SBATCH --partition=msismall\\n\")\n",
    "    outf.write(\"#SBATCH --ntasks=20\\n\")\n",
    "    outf.write(\"#SBATCH --mem=40g\\n\")\n",
    "    \n",
    "    outf.write(\"source /home/yangya/lee02893/.bashrc\\n\")\n",
    "    outf.write(\"source activate transcriptome\\n\")\n",
    "    outf.write(\"cd {}\\n\".format(wd))\n",
    "    \n",
    "    # run TransDecoder, including blastp hits to ice plant\n",
    "    outf.write(\"TransDecoder.LongOrfs -t Sceletium_nova.unigenes.fasta\\n\")\n",
    "    outf.write(\"blastp -query Sceletium_nova.unigenes.fasta -db /home/yangya/lee02893/blastdb/iceplant_protein -max_target_seqs 1 -outfmt 6 -evalue 1e-5 -num_threads 8 > Sceletium_nova.longest_orfs.blastp\\n\")\n",
    "    outf.write(\"TransDecoder.Predict -t Sceletium_nova.unigenes.fasta --retain_blastp_hits Sceletium_nova.longest_orfs.blastp\\n\")"
   ]
  }
 ],
 "metadata": {
  "kernelspec": {
   "display_name": "Python3.8.3",
   "language": "python",
   "name": "python3.8.3"
  },
  "language_info": {
   "codemirror_mode": {
    "name": "ipython",
    "version": 3
   },
   "file_extension": ".py",
   "mimetype": "text/x-python",
   "name": "python",
   "nbconvert_exporter": "python",
   "pygments_lexer": "ipython3",
   "version": "3.8.3"
  }
 },
 "nbformat": 4,
 "nbformat_minor": 5
}
